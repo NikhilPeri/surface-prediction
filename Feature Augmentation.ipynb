{
 "cells": [
  {
   "cell_type": "code",
   "execution_count": 35,
   "metadata": {},
   "outputs": [],
   "source": [
    "import numpy as np\n",
    "import pandas as pd\n",
    "\n",
    "import matplotlib.pyplot as plt\n",
    "\n",
    "%matplotlib inline"
   ]
  },
  {
   "cell_type": "code",
   "execution_count": 29,
   "metadata": {},
   "outputs": [],
   "source": [
    "features = pd.merge(\n",
    "    pd.read_csv('data/X_train.csv'), \n",
    "    pd.read_csv('data/y_train.csv'), \n",
    "    on=['series_id']\n",
    ")"
   ]
  },
  {
   "cell_type": "code",
   "execution_count": 130,
   "metadata": {},
   "outputs": [],
   "source": [
    "max_group = features['group_id'].max()\n",
    "max_series = features['series_id'].max()\n",
    "slices = []\n",
    "for group in features.groupby('group_id').groups.values():\n",
    "    group = features.iloc[group]\n",
    "    for i in range(len(group)/128 - 1):\n",
    "        new_slice = group[64+i*128:64+(i+1)*128].reset_index(drop=True)\n",
    "        new_slice['measurement_number'] = new_slice.index\n",
    "        max_series += 1\n",
    "        max_group += 1\n",
    "        new_slice['series_id'] = max_series\n",
    "        new_slice['group_id'] = max_group\n",
    "        new_slice['row_id'] = new_slice[['series_id', 'measurement_number']].apply(lambda x: '{}_{}'.format(x[0], x[1]), axis=1)\n",
    "\n",
    "        slices.append(new_slice)\n",
    "    \n",
    "slices = pd.concat(slices, ignore_index=True).reset_index(drop=True)\n",
    "    "
   ]
  },
  {
   "cell_type": "code",
   "execution_count": 140,
   "metadata": {},
   "outputs": [],
   "source": [
    "augmented_features = pd.concat([features, slices],ignore_index=True).reset_index(drop=True)\n",
    "augmented_features.drop(['group_id', 'surface'], axis=1).to_csv('data/X_train_augment.csv', index=False)\n",
    "augmented_features[['series_id', 'group_id', 'surface']].drop_duplicates().to_csv('data/y_train_augment.csv', index=False)\n"
   ]
  },
  {
   "cell_type": "code",
   "execution_count": null,
   "metadata": {},
   "outputs": [],
   "source": []
  }
 ],
 "metadata": {
  "kernelspec": {
   "display_name": "Python 2",
   "language": "python",
   "name": "python2"
  },
  "language_info": {
   "codemirror_mode": {
    "name": "ipython",
    "version": 2
   },
   "file_extension": ".py",
   "mimetype": "text/x-python",
   "name": "python",
   "nbconvert_exporter": "python",
   "pygments_lexer": "ipython2",
   "version": "2.7.16"
  }
 },
 "nbformat": 4,
 "nbformat_minor": 2
}
